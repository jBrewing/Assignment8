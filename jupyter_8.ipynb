{
 "cells": [
  {
   "cell_type": "markdown",
   "metadata": {
    "collapsed": true
   },
   "source": []
  },
  {
   "cell_type": "markdown",
   "metadata": {},
   "source": [
    "# _Using Python to Access Hydrologic Data From Web Services_\n",
    "### Author: Joseph Brewer w/ Dr. Jeff Horsburgh\n",
    "### For: CEE 6110 - Hydroinformatics\n",
    "> Description: This script, imported into a Jupyter Notebook, <br>\n",
    "will explore the data available from the USGS Unit Values WaterOneFlow <br>\n",
    "web service, retrieve a time series of 15-minute discharge values, <br>\n",
    "calculate daily summarized data, and then visualize output. "
   ]
  },
  {
   "cell_type": "markdown",
   "metadata": {},
   "source": []
  },
  {
   "cell_type": "code",
   "execution_count": null,
   "metadata": {},
   "outputs": [],
   "source": [
    "import datetime\n",
    "from suds.client import Client\n",
    "from pandas import Series\n",
    "import matplotlib.pyplot as plt\n",
    "import matplotlib.dates as mdates"
   ]
  },
  {
   "cell_type": "markdown",
   "metadata": {},
   "source": [
    "#### Connect to website "
   ]
  },
  {
   "cell_type": "code",
   "execution_count": 2,
   "metadata": {},
   "outputs": [],
   "source": [
    "now = datetime.datetime.now()\n",
    "now1 = now.strftime(\"%Y-%m-%d %H:%M:%S\")"
   ]
  },
  {
   "cell_type": "markdown",
   "metadata": {},
   "source": [
    "#### Create inputs needed for the web service call. "
   ]
  },
  {
   "cell_type": "code",
   "execution_count": 3,
   "metadata": {},
   "outputs": [],
   "source": [
    "wsdlURL = 'http://hydroportal.cuahsi.org/nwisuv/cuahsi_1_1.asmx?WSDL'\n",
    "siteCode = 'NWISUV:09315000'\n",
    "variableCode = 'NWISUV:00060'\n",
    "beginDate = '2018-08-01'\n",
    "endDate = now1"
   ]
  },
  {
   "cell_type": "markdown",
   "metadata": {},
   "source": [
    "#### Create a new object named NWIS for calling the web service "
   ]
  },
  {
   "cell_type": "code",
   "execution_count": null,
   "metadata": {},
   "outputs": [],
   "source": [
    "NWIS = Client(wsdlURL).service"
   ]
  },
  {
   "cell_type": "markdown",
   "metadata": {},
   "source": [
    "###Call the GetValuesObject method to return the datavalues"
   ]
  },
  {
   "cell_type": "code",
   "execution_count": null,
   "metadata": {},
   "outputs": [],
   "source": [
    "response = NWIS.GetValuesObject(siteCode, variableCode, beginDate, endDate)"
   ]
  },
  {
   "cell_type": "markdown",
   "metadata": {},
   "source": [
    "###Get the site name from the response"
   ]
  },
  {
   "cell_type": "code",
   "execution_count": null,
   "metadata": {},
   "outputs": [],
   "source": [
    "siteName = response.timeSeries[0].sourceInfo.siteName"
   ]
  },
  {
   "cell_type": "markdown",
   "metadata": {},
   "source": [
    "###Load called objects into pandas series object\n",
    "    "
   ]
  },
  {
   "cell_type": "code",
   "execution_count": null,
   "metadata": {},
   "outputs": [],
   "source": [
    "a = []\n",
    "b = []"
   ]
  },
  {
   "cell_type": "markdown",
   "metadata": {},
   "source": [
    "###Get the values and load into the blank lists using append"
   ]
  },
  {
   "cell_type": "code",
   "execution_count": null,
   "metadata": {},
   "outputs": [],
   "source": [
    "values = response.timeSeries[0].values[0].value"
   ]
  },
  {
   "cell_type": "markdown",
   "metadata": {},
   "source": [
    "Loop through the values and load into the blank lists using append. "
   ]
  },
  {
   "cell_type": "code",
   "execution_count": null,
   "metadata": {},
   "outputs": [],
   "source": [
    "for v in values:\n",
    "    a.append(float(v.value))\n",
    "    b.append(v._dateTime)"
   ]
  },
  {
   "cell_type": "markdown",
   "metadata": {},
   "source": [
    "Create a Pandas Series object from the lists. \n",
    "Set the index of the series object to the dates. "
   ]
  },
  {
   "cell_type": "code",
   "execution_count": null,
   "metadata": {},
   "outputs": [],
   "source": [
    "ts = Series(a, index=b)"
   ]
  },
  {
   "cell_type": "markdown",
   "metadata": {},
   "source": [
    "Resample data on daily intercal with mean/min/max functions.  \n",
    "Create hourly max, min, and avg series. "
   ]
  },
  {
   "cell_type": "code",
   "execution_count": null,
   "metadata": {},
   "outputs": [],
   "source": [
    "hourlyTotDisAvg = ts.resample(rule='1D', base=0).mean()\n",
    "hourlyTotDisMax = ts.resample(rule='1D', base=0).max()\n",
    "hourlyTotDisMin = ts.resample(rule='1D', base=0).min()"
   ]
  },
  {
   "cell_type": "markdown",
   "metadata": {},
   "source": [
    "Plot Stuff\n",
    "Use Matplotlib to create a plot of the time series streamflow statistics"
   ]
  },
  {
   "cell_type": "code",
   "execution_count": null,
   "metadata": {},
   "outputs": [],
   "source": [
    "fig = plt.figure(figsize=(12,8))\n",
    "ax = fig.add_subplot(1, 1, 1)  \n",
    "\n",
    "ts.plot(color='grey', linestyle='solid', label='15-minute streamflow values', alpha=0.5, linewidth=0.5)\n",
    "hourlyTotDisAvg.plot(color='green', linestyle='solid', label='Daily avg flows',\n",
    "                     marker = 'o', ms=2, linewidth =0.75)\n",
    "hourlyTotDisMax.plot(color='red', linestyle='solid', label='Daily max flows',\n",
    "                     marker = 'o', ms=2, linewidth =0.75)\n",
    "hourlyTotDisMin.plot(color='blue', linestyle='solid', label='Daily min flows',\n",
    "                     marker = 'o', ms=2, linewidth =0.75)\n",
    "\n",
    "# Set some properties of the subplot to make it look nice\n",
    "ax.set_ylabel('Discharge, cubic feet per second')\n",
    "ax.set_xlabel('Date')\n",
    "ax.grid(True)\n",
    "ax.set_title('Daily Max, Min, & Avg Flows for: ' + siteName + ', ' + siteCode)\n",
    "ax.set_xlim(beginDate, endDate)\n",
    "legend = ax.legend(loc='upper left', shadow=True)\n",
    "fig.autofmt_xdate()  # use auto-formatter to enable accurate date representation with mouse \n",
    "ax.xaxis.set_major_locator(mdates.DayLocator(interval=15)) # set ticks interval for every 15 days.\n",
    "\n",
    "# Create a legend \n",
    "frame = legend.get_frame()\n",
    "frame.set_facecolor('0.95')\n",
    "\n",
    "# Create a frame around the legend.\n",
    "for label in legend.get_texts():\n",
    "    label.set_fontsize('large')\n",
    "    \n",
    "# Set the font size in the legend\n",
    "for label in legend.get_lines():\n",
    "    label.set_linewidth(1.5)\n",
    "    \n",
    "\n"
   ]
  },
  {
   "cell_type": "code",
   "execution_count": null,
   "metadata": {},
   "outputs": [],
   "source": [
    "plt.show()"
   ]
  },
  {
   "cell_type": "code",
   "execution_count": null,
   "metadata": {},
   "outputs": [],
   "source": [
    "print('done')"
   ]
  }
 ],
 "metadata": {
  "kernelspec": {
   "display_name": "Python 2",
   "language": "python",
   "name": "python2"
  },
  "language_info": {
   "codemirror_mode": {
    "name": "ipython",
    "version": 2
   },
   "file_extension": ".py",
   "mimetype": "text/x-python",
   "name": "python",
   "nbconvert_exporter": "python",
   "pygments_lexer": "ipython2",
   "version": "2.7.6"
  }
 },
 "nbformat": 4,
 "nbformat_minor": 0
}
